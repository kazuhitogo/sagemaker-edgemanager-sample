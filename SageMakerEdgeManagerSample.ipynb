{
 "cells": [
  {
   "cell_type": "markdown",
   "id": "czech-bouquet",
   "metadata": {},
   "source": [
    "https://github.com/aws/amazon-sagemaker-examples/blob/master/sagemaker_edge_manager/sagemaker_edge_example/sagemaker_edge_example.ipynb  \n",
    "を一部改変して、コメントを日本語化したものです"
   ]
  },
  {
   "cell_type": "markdown",
   "id": "answering-jamaica",
   "metadata": {},
   "source": [
    "# SageMaker EdgeManager Sample\n",
    "\n",
    "## 概要\n",
    "\n",
    "* Amazon SageMaker EdgeManager の機能を一通り使用するハンズオンです。\n",
    "* [開発者ドキュメント](https://docs.aws.amazon.com/sagemaker/latest/dg/edge.html)の流れを実行できるように[ノートブック形式にしたもの](https://github.com/aws/amazon-sagemaker-examples/blob/master/sagemaker_edge_manager/sagemaker_edge_example/sagemaker_edge_example.ipynb)で処理を一部改変し、日本語の説明を追加したものです。\n",
    "\n",
    "## 前提\n",
    "* SageMaker Notebook インスタンスで実行\n",
    "* Administrator Access がSageMakerのロールにアタッチされている\n",
    "\n",
    "## 構成\n",
    "\n",
    "## 手順\n",
    "0. [前準備](#前準備)\n",
    "  1. [このノートブックを実行するにあたっての Python モジュール読み込み](#このノートブックを実行するにあたっての Python モジュール読み込み)\n",
    "  2. [既定値の取得](#既定値の取得)\n",
    "  3. [定数の設定](#定数の設定)\n",
    "  4. [推論用サンプル画像のS3アップロード](#推論用サンプル画像のS3アップロード)\n",
    "  5. [使用するAWSのクライアントインスタンスを生成](https://my-first-notebook-oarf.notebook.ap-northeast-1.sagemaker.aws/notebooks/sagemaker-edgemanager-sample/SageMakerEdgeManagerSample.ipynb#%E4%BD%BF%E7%94%A8%E3%81%99%E3%82%8BAWS%E3%81%AE%E3%82%AF%E3%83%A9%E3%82%A4%E3%82%A2%E3%83%B3%E3%83%88%E3%82%A4%E3%83%B3%E3%82%B9%E3%82%BF%E3%83%B3%E3%82%B9%E3%82%92%E7%94%9F%E6%88%90)\n",
    "1. [エッジデバイスを模したEC2を作成](#エッジデバイスを模したEC2を作成  )  \n",
    "  ※本来のエッジデバイスであれば不要な作業で、エッジ側で別途OSインストールなどをしておいてください  \n",
    "  ※アーティファクトをダウンロードするために、S3 の権限と、EC2 で ssh で入って処理をおこなうために、SSM を扱うためのロールとポリシーを設定します\n",
    "  1. [すでにあった場合のためのポリシー、インスタンスプロファイル、ロールの事前削除](#すでにあった場合のためのポリシー、インスタンスプロファイル、ロールの事前削除)\n",
    "  2. [EC2のロールにアタッチするインラインポリシーの作成](#EC2のロールにアタッチするインラインポリシーの作成)\n",
    "  3. [EC2のロールを作成](EC2のロールを作成)\n",
    "  3. [インスタンスプロファイルを作成してEC2のロールに追加](#インスタンスプロファイルを作成してEC2のロールに追加)\n",
    "  4. [EC2のロールに各種ポリシーをアタッチ](#EC2のロールに各種ポリシーをアタッチ)\n",
    "  5. [EC2のキーペアを作成](#EC2のキーペアを作成)\n",
    "  6. [EC2インスタンスを起動](#EC2インスタンスを起動)\n",
    "2. [エッジで動かすKerasモデルの準備](#エッジで動かすKerasモデルの準備)\n",
    "  1. [MobilenetV2(pre-trained)のモデルをS3に保存](#MobilenetV2(pre-trained)のモデルをS3に保存)\n",
    "  2. [MobinenetV2をNeoでコンパイル](#MobinenetV2をNeoでコンパイル)\n",
    "  3. [EdgeManagerでモデルをパッケージ化](#EdgeManagerでモデルをパッケージ化)\n",
    "3. [IoTの設定](#IoTの設定)\n",
    "  1. [ThingとTypeを作成](#ThingとTypeを作成)\n",
    "  2. [Thingに割り当てるロールを作成](#Thingに割り当てるロールを作成)\n",
    "4. [SageMakerEdgeManagerの設定](#SageMakerEdgeManagerの設定)\n",
    "  1. [デバイスフリートの作成](#デバイスフリートの作成)\n",
    "  2. [デバイスの登録](#デバイスの登録)\n",
    "5. [X.509クライアント証明書の作成と設定](#X.509クライアント証明書の作成と設定)\n",
    "  1. [証明書の作成](#証明書の作成)\n",
    "  2. [証明書とロールエイリアスを紐付けるポリシーを証明書にアタッチ](#証明書とロールエイリアスを紐付けるポリシーを証明書にアタッチ)\n",
    "  3. [IoTエンドポイントを取得](#IoTエンドポイントを取得)\n",
    "  4. [RootCAの取得](#RootCAの取得)\n",
    "  5. [IoTエンドポイントの動作確認](#IoTエンドポイントの動作確認)\n",
    "  6. [証明書たちをS3にアップロードする](#証明書たちをS3にアップロードする)\n",
    "6. [エッジの準備と推論](#エッジの準備と推論)\n",
    "  1. [Agentをエッジにダウンロード](#Agentをエッジにダウンロード)\n",
    "  2. [各種ファイルをエッジ側でダウンロード](#各種ファイルをエッジ側でダウンロード)\n",
    "  3. [Agentのconfigファイルの配置とAgentのdaemonを起動](#Agentのconfigファイルの配置とAgentのdaemonを起動)\n",
    "  4. [モデルをAgentにロード](#モデルをAgentにロード)\n",
    "  5. [Agentを利用して推論](#Agentを利用して推論)\n",
    "  6. [データのキャプチャ](#データのキャプチャ)\n",
    "  7. [モデルをAgentからアンロード](#モデルをAgentからアンロード)\n",
    "7. [おかたづけ](#おかたづけ)"
   ]
  },
  {
   "cell_type": "markdown",
   "id": "roman-specification",
   "metadata": {},
   "source": [
    "## 前準備"
   ]
  },
  {
   "cell_type": "markdown",
   "id": "western-grant",
   "metadata": {},
   "source": [
    "### このノートブックを実行するにあたっての Python モジュール読み込み"
   ]
  },
  {
   "cell_type": "code",
   "execution_count": null,
   "id": "studied-diameter",
   "metadata": {},
   "outputs": [],
   "source": [
    "import sagemaker\n",
    "from sagemaker import get_execution_role\n",
    "import boto3, botocore\n",
    "import json, uuid\n",
    "from time import sleep\n",
    "import tarfile\n",
    "from time import time\n",
    "import tensorflow as tf"
   ]
  },
  {
   "cell_type": "markdown",
   "id": "acute-calvin",
   "metadata": {},
   "source": [
    "### 既定値の取得\n",
    "使用している API はこちら\n",
    "* [get_execution_role](https://sagemaker.readthedocs.io/en/stable/api/utility/session.html?highlight=get_execution_role#sagemaker.session.get_execution_role)\n",
    "* [Session](https://sagemaker.readthedocs.io/en/stable/api/utility/session.html?highlight=get_execution_role#sagemaker.session.Session)"
   ]
  },
  {
   "cell_type": "code",
   "execution_count": null,
   "id": "straight-showcase",
   "metadata": {},
   "outputs": [],
   "source": [
    "role = get_execution_role()\n",
    "sess = sagemaker.Session()\n",
    "region = boto3.Session().region_name\n",
    "bucket = sess.default_bucket()\n",
    "print(f'role: {role}')\n",
    "print(f'region: {region}')"
   ]
  },
  {
   "cell_type": "markdown",
   "id": "wired-integrity",
   "metadata": {},
   "source": [
    "### 定数の設定"
   ]
  },
  {
   "cell_type": "code",
   "execution_count": null,
   "id": "handed-responsibility",
   "metadata": {},
   "outputs": [],
   "source": [
    "# 各種フォルダ・URI設定 \n",
    "folder = 'DEMO-Sagemaker-Edge'\n",
    "compilation_output_sub_folder =  f'{folder}/compilation-output'\n",
    "iot_folder = f'{folder}/iot'\n",
    "s3_compilation_output_location = f's3://{bucket}/{compilation_output_sub_folder}'\n",
    "\n",
    "print(f'bucket: {bucket}')\n",
    "print(f'folder: {folder}')\n",
    "print(f'compilation_output_sub_folder: {compilation_output_sub_folder}')\n",
    "print(f'iot_folder: {iot_folder}')\n",
    "print(f's3_compilation_output_location: {s3_compilation_output_location}')"
   ]
  },
  {
   "cell_type": "markdown",
   "id": "starting-listing",
   "metadata": {},
   "source": [
    "### 推論用サンプル画像のS3アップロード"
   ]
  },
  {
   "cell_type": "code",
   "execution_count": null,
   "id": "thousand-flash",
   "metadata": {},
   "outputs": [],
   "source": [
    "keras_img_path = sess.upload_data('keras.bmp', bucket, iot_folder)\n",
    "print(f'keras_img_path: {keras_img_path}')"
   ]
  },
  {
   "cell_type": "markdown",
   "id": "graduate-salad",
   "metadata": {},
   "source": [
    "### 使用するAWSのクライアントインスタンスを生成"
   ]
  },
  {
   "cell_type": "code",
   "execution_count": null,
   "id": "convertible-russia",
   "metadata": {},
   "outputs": [],
   "source": [
    "# boto3 client 作成\n",
    "ec2_client = boto3.client('ec2', region_name=region)\n",
    "iam_client = boto3.client('iam')\n",
    "sagemaker_client = boto3.client('sagemaker')\n",
    "iot_client = boto3.client('iot', region_name=region)\n",
    "s3_client = boto3.client('s3')\n",
    "ssm_client = boto3.client('ssm', region_name=region)"
   ]
  },
  {
   "cell_type": "markdown",
   "id": "charged-percentage",
   "metadata": {},
   "source": [
    "## エッジデバイスを模したEC2を作成  \n",
    "* エッジデバイスが手元にある人は珍しいので、EC2インスタンスを仮想エッジデバイスとして使用する\n",
    "* エッジデバイスが手元にある方はこの章を飛ばして構いません\n",
    "  ただし、EC2ロールを利用して、S3からダウンロードを後で行うので、ダウンロード方法は別途検討の必要があります(CloudFront + S3 でホスティングの上 wget するなど)\n",
    "* EC2 を SSH で操作するために Systems Manager の Session Manager を利用するため、そのポリシーも合わせてアタッチする"
   ]
  },
  {
   "cell_type": "markdown",
   "id": "legislative-facial",
   "metadata": {},
   "source": [
    "### すでにあった場合のためのポリシー、インスタンスプロファイル、ロールの事前削除"
   ]
  },
  {
   "cell_type": "code",
   "execution_count": null,
   "id": "valued-patrick",
   "metadata": {},
   "outputs": [],
   "source": [
    "# 定数定義\n",
    "ec2_role_name = 'edge-equivalent-ec2-role'\n",
    "ec2_inline_policy_name = 'EdgeManagrSample-GetS3-FromEc2'\n",
    "\n",
    "ec2_role_attach_policy_arn_list = [\n",
    "    'arn:aws:iam::aws:policy/service-role/AmazonEC2RoleforSSM',\n",
    "    'arn:aws:iam::aws:policy/AmazonSSMManagedInstanceCore',\n",
    "    'arn:aws:iam::aws:policy/AmazonSSMDirectoryServiceAccess',\n",
    "    'arn:aws:iam::aws:policy/CloudWatchAgentServerPolicy'\n",
    "]"
   ]
  },
  {
   "cell_type": "code",
   "execution_count": null,
   "id": "starting-gibraltar",
   "metadata": {
    "scrolled": true
   },
   "outputs": [],
   "source": [
    "# 既存ポリシーのデタッチ、ポリシーバージョンの削除、ポリシーの削除\n",
    "# 存在しない場合はexceptでスキップされる\n",
    "\n",
    "# インラインポリシーの削除\n",
    "policies = iam_client.list_policies()\n",
    "for policy in policies['Policies']:\n",
    "    policy_arn = policy['Arn'] if policy['PolicyName'] in ec2_inline_policy_name else None\n",
    "    if policy_arn:\n",
    "        # Policy をデタッチ\n",
    "        try:\n",
    "            response = iam_client.detach_role_policy(\n",
    "                RoleName=ec2_role_name,\n",
    "                PolicyArn=policy_arn\n",
    "            )\n",
    "            print(f'detach {ec2_role_name} {policy_arn}')\n",
    "            print(respoonse)\n",
    "        except:\n",
    "            print('did not detach role policy')\n",
    "        # Policy バージョンの削除\n",
    "        try:\n",
    "            for policy_version in iam_client.list_policy_versions(PolicyArn=policy_arn)['Versions']:\n",
    "                response = iam.delete_policy_version(PolicyArn=policy_arn,VersionId=policy_version['VersionId'])\n",
    "                print(f'delete policy version {policy_arn} {policy_version[\"VersionId\"]}')\n",
    "                print(response)\n",
    "        except:\n",
    "            print('did not delete policy version')\n",
    "        # Policy を削除\n",
    "        try:\n",
    "            response = iam_client.delete_policy(PolicyArn=policy_arn)\n",
    "            print(f'delete policy {policy_arn}')\n",
    "            print(response)\n",
    "        except:\n",
    "            print('did not delete policy')\n",
    "\n",
    "# その他ポリシーの削除\n",
    "for policy_arn in ec2_role_attach_policy_arn_list:                      \n",
    "    try:\n",
    "        response = iam_client.detach_role_policy(RoleName=ec2_role_name,PolicyArn=policy_arn)\n",
    "        print(f'detach ec2 role {policy_arn}')\n",
    "        print(json.dumps(response, indent=2))\n",
    "    except:\n",
    "        print(f'could not detach {policy_arn}')\n",
    "                      \n",
    "\n",
    "\n",
    "# インスタンスプロファイルを削除\n",
    "try:\n",
    "    response = iam_client.remove_role_from_instance_profile(\n",
    "        InstanceProfileName=ec2_role_name,\n",
    "        RoleName=ec2_role_name\n",
    "    )\n",
    "    print('delete ec2 role')\n",
    "    print(json.dumps(response, indent=2))\n",
    "except:\n",
    "    print('nothing to remove role from instance profile')\n",
    "\n",
    "# ロールの削除\n",
    "try:\n",
    "    response = iam_client.delete_role(RoleName = ec2_role_name)\n",
    "    print('delete ec2 role')\n",
    "    print(json.dumps(response, indent=2))\n",
    "except:\n",
    "    print('nothing to delete role')\n",
    "try:\n",
    "    response = iam_client.delete_instance_profile(InstanceProfileName=ec2_role_name)\n",
    "    print('delete instance profile')\n",
    "    print(json.dumps(response, indent=2))\n",
    "except:\n",
    "    print('nothing to delete instance profile')"
   ]
  },
  {
   "cell_type": "markdown",
   "id": "honest-inflation",
   "metadata": {},
   "source": [
    "### EC2のロールにアタッチするインラインポリシーの作成"
   ]
  },
  {
   "cell_type": "code",
   "execution_count": null,
   "id": "precious-carol",
   "metadata": {},
   "outputs": [],
   "source": [
    "# ポリシーの作成\n",
    "s3_get_from_ec2_policy_doc = {\n",
    "    'Version': '2012-10-17',\n",
    "    'Statement': [\n",
    "        {\n",
    "            'Effect': 'Allow',\n",
    "            'Action': [\n",
    "                's3:GetObject',\n",
    "                's3:PutObject',\n",
    "                's3:PutObjectAcl',\n",
    "            ],\n",
    "            'Resource': [\n",
    "                f'arn:aws:s3:::{bucket}/*',\n",
    "                'arn:aws:s3:::sagemaker-edge-release-store-us-west-2-linux-armv8',\n",
    "                'arn:aws:s3:::sagemaker-edge-release-store-us-west-2-linux-x64',\n",
    "                'arn:aws:s3:::sagemaker-edge-release-store-us-west-2-windows-x64',\n",
    "                'arn:aws:s3:::sagemaker-edge-release-store-us-west-2-windows-x86',\n",
    "                f'arn:aws:s3:::aws-ssm-{region}/*',\n",
    "                f'arn:aws:s3:::aws-windows-downloads-{region}/*',\n",
    "                f'arn:aws:s3:::amazon-ssm-{region}/*',\n",
    "                f'arn:aws:s3:::amazon-ssm-packages-{region}/*',\n",
    "                f'arn:aws:s3:::{region}-birdwatcher-prod/*',\n",
    "                f'arn:aws:s3:::aws-ssm-distributor-file-{region}/*',\n",
    "                f'arn:aws:s3:::aws-ssm-document-attachments-{region}/*',\n",
    "                f'arn:aws:s3:::patch-baseline-snapshot-{region}/*'\n",
    "            ]\n",
    "        },\n",
    "        {\n",
    "            \"Effect\": \"Allow\",\n",
    "            \"Action\": [\n",
    "                \"ssmmessages:CreateControlChannel\",\n",
    "                \"ssmmessages:CreateDataChannel\",\n",
    "                \"ssmmessages:OpenControlChannel\",\n",
    "                \"ssmmessages:OpenDataChannel\"\n",
    "            ],\n",
    "            \"Resource\": \"*\"\n",
    "        },\n",
    "        {\n",
    "            \"Effect\": \"Allow\",\n",
    "            \"Action\": [\n",
    "                \"s3:GetEncryptionConfiguration\"\n",
    "            ],\n",
    "            \"Resource\": \"*\"\n",
    "        }\n",
    "    ]\n",
    "}\n",
    "response = iam_client.create_policy(\n",
    "    PolicyName=ec2_inline_policy_name,\n",
    "    PolicyDocument=json.dumps(s3_get_from_ec2_policy_doc),\n",
    "    Description='s3 get from ec2 policy',\n",
    ")\n",
    "s3_get_from_ec2_policy_arn = response['Policy']['Arn']\n",
    "ec2_inline_policy_name = response['Policy']['PolicyName']\n",
    "print(f'作成した policy の\\narn は \"{s3_get_from_ec2_policy_arn}\"')\n",
    "print(f'名前は \"{ec2_inline_policy_name}\"\\nです')"
   ]
  },
  {
   "cell_type": "markdown",
   "id": "correct-grounds",
   "metadata": {},
   "source": [
    "### EC2のロールを作成"
   ]
  },
  {
   "cell_type": "code",
   "execution_count": null,
   "id": "executive-router",
   "metadata": {},
   "outputs": [],
   "source": [
    "# ロールの作成\n",
    "assume_role_policy_document = {\n",
    "  \"Version\": \"2012-10-17\",\n",
    "  \"Statement\": [{\"Sid\": \"\",\"Effect\": \"Allow\",\"Principal\": {\"Service\": \"ec2.amazonaws.com\"},\"Action\": \"sts:AssumeRole\"}]\n",
    "}\n",
    "response = iam_client.create_role(\n",
    "    RoleName = ec2_role_name,\n",
    "    AssumeRolePolicyDocument = json.dumps(assume_role_policy_document),\n",
    "    Description='edge equivalent ec2 role',\n",
    "    MaxSessionDuration=3600*12 # 12時間\n",
    ")\n",
    "print(response)"
   ]
  },
  {
   "cell_type": "markdown",
   "id": "related-framing",
   "metadata": {},
   "source": [
    "### インスタンスプロファイルを作成してEC2のロールに追加"
   ]
  },
  {
   "cell_type": "code",
   "execution_count": null,
   "id": "pacific-links",
   "metadata": {},
   "outputs": [],
   "source": [
    "response = iam_client.create_instance_profile(InstanceProfileName=ec2_role_name)\n",
    "print(response)\n",
    "\n",
    "response = iam_client.add_role_to_instance_profile(\n",
    "    RoleName=ec2_role_name,\n",
    "    InstanceProfileName=ec2_role_name\n",
    ")\n",
    "print(response)"
   ]
  },
  {
   "cell_type": "markdown",
   "id": "entertaining-pension",
   "metadata": {},
   "source": [
    "### EC2のロールに各種ポリシーをアタッチ"
   ]
  },
  {
   "cell_type": "code",
   "execution_count": null,
   "id": "wireless-advice",
   "metadata": {
    "scrolled": true
   },
   "outputs": [],
   "source": [
    "# inline policy\n",
    "response = iam_client.attach_role_policy(\n",
    "    RoleName=ec2_role_name,\n",
    "    PolicyArn=s3_get_from_ec2_policy_arn\n",
    ")\n",
    "print(json.dumps(response, indent=2))\n",
    "\n",
    "# managed policy\n",
    "for policy_arn in ec2_role_attach_policy_arn_list:\n",
    "    response = iam_client.attach_role_policy(\n",
    "        RoleName=ec2_role_name,\n",
    "        PolicyArn=policy_arn\n",
    "    )\n",
    "    print(f'attach policy_arn')\n",
    "    print(json.dumps(response, indent=2))"
   ]
  },
  {
   "cell_type": "markdown",
   "id": "existing-salad",
   "metadata": {},
   "source": [
    "### EC2のキーペアを作成"
   ]
  },
  {
   "cell_type": "code",
   "execution_count": null,
   "id": "extra-chapel",
   "metadata": {},
   "outputs": [],
   "source": [
    "# 既存のキーペアがあったら削除\n",
    "key_pairs = ec2_client.describe_key_pairs()\n",
    "key_names = list(map(lambda x : x['KeyName'], key_pairs['KeyPairs']))\n",
    "\n",
    "key_name = 'edge-equivalent-ec2-key-pair'\n",
    "\n",
    "if key_name in key_names:\n",
    "    ec2_key_pair = ec2_client.delete_key_pair(KeyName=key_name,)\n",
    "\n",
    "# キーペアを作成\n",
    "ec2_key_pair = ec2_client.create_key_pair(\n",
    "    KeyName=key_name,\n",
    ")\n",
    "\n",
    "key_pair = str(ec2_key_pair['KeyMaterial'])\n",
    "with open(f'./{key_name}.pem','wt') as f:\n",
    "    f.write(key_pair)"
   ]
  },
  {
   "cell_type": "markdown",
   "id": "modern-smile",
   "metadata": {},
   "source": [
    "### EC2インスタンスを起動"
   ]
  },
  {
   "cell_type": "code",
   "execution_count": null,
   "id": "quarterly-prescription",
   "metadata": {},
   "outputs": [],
   "source": [
    "ami_map = {\n",
    "    'us-east-1': 'ami-063585f0e06d22308',\n",
    "    'us-east-2': 'ami-01bd6a1621a6968d7',\n",
    "    'us-west-2': 'ami-0bc87a16c757a7f07',\n",
    "    'eu-central-1': 'ami-01227276a4e5a4a31',\n",
    "    'ap-northeast-1': 'ami-03b8cfea5460e4881',\n",
    "    'eu-west-1': 'ami-006ff58f5247c50eb'\n",
    "}"
   ]
  },
  {
   "cell_type": "code",
   "execution_count": null,
   "id": "endless-stroke",
   "metadata": {},
   "outputs": [],
   "source": [
    "user_data = \"\"\"#!/bin/bash\n",
    "export work_dir=/home/ubuntu/\n",
    "export log_file=/home/ubuntu/userdata.log\n",
    "cd $work_dir\n",
    "sudo apt update -y >> $log_file\n",
    "sudo apt upgrade -y >> $log_file\n",
    "sudo apt install python3-pip unzip awscli zip -y >> $log_file\n",
    "pip3 install awscli >> $log_file\n",
    "wget https://d190oj76e915as.cloudfront.net/PVREOnboarding.zip >> $log_file\n",
    "unzip PVREOnboarding.zip -d PVREOnboarding >> $log_file\n",
    "cd PVREOnboarding\n",
    "echo ap-northeast-1 | bash PVRE-SSM-onboarding.sh >> $log_file\n",
    "\"\"\"\n",
    "print(user_data)"
   ]
  },
  {
   "cell_type": "code",
   "execution_count": null,
   "id": "environmental-dover",
   "metadata": {},
   "outputs": [],
   "source": [
    "# instance profile が有効化されるまで念の為5秒のsleepを入れておく。たまにそれでもエラーで落ちるが、しばらくして再実行すると動く。\n",
    "sleep(10)\n",
    "\n",
    "# EC2 の立ち上げ\n",
    "ec2_instance = ec2_client.run_instances(\n",
    "    ImageId=ami_map[region],\n",
    "    MinCount=1,\n",
    "    MaxCount=1,\n",
    "    InstanceType='c5.large',\n",
    "    KeyName=key_name,\n",
    "    IamInstanceProfile={'Name': ec2_role_name},\n",
    "    TagSpecifications=[\n",
    "        {\n",
    "            'ResourceType': 'instance',\n",
    "            'Tags': [\n",
    "                {\n",
    "                    'Key': 'Name',\n",
    "                    'Value': 'edge-equivalent-ec2',\n",
    "                },\n",
    "            ],\n",
    "        },\n",
    "    ],\n",
    "    UserData = user_data\n",
    ")\n",
    "sleep(10)\n",
    "instance_id = ec2_instance['Instances'][0]['InstanceId']\n",
    "print(f'instance_id : {instance_id}')"
   ]
  },
  {
   "cell_type": "markdown",
   "id": "urban-classic",
   "metadata": {},
   "source": [
    "## エッジで動かすKerasモデルの準備"
   ]
  },
  {
   "cell_type": "markdown",
   "id": "conscious-groove",
   "metadata": {},
   "source": [
    "https://boto3.amazonaws.com/v1/documentation/api/latest/reference/services/sagemaker.html#SageMaker.Client.create_compilation_job"
   ]
  },
  {
   "cell_type": "markdown",
   "id": "comic-value",
   "metadata": {},
   "source": [
    "### MobilenetV2(pre-trained)のモデルをS3に保存\n",
    "[MobileNetV2](https://keras.io/ja/applications/#mobilenetv2)を利用"
   ]
  },
  {
   "cell_type": "code",
   "execution_count": null,
   "id": "interested-special",
   "metadata": {},
   "outputs": [],
   "source": [
    "# モデルの呼び出し\n",
    "model = tf.keras.applications.MobileNetV2()\n",
    "# モデルのローカル保存\n",
    "model.save('mobilenet_v2.h5')\n",
    "# tar.gz で固める\n",
    "with tarfile.open('mobilenet_v2.tar.gz', mode='w:gz') as archive:\n",
    "    archive.add('mobilenet_v2.h5')\n",
    "# S3 にアップロード\n",
    "keras_model_path = sess.upload_data('mobilenet_v2.tar.gz', bucket, folder)\n",
    "print(f'keras_model_path: {keras_model_path}')"
   ]
  },
  {
   "cell_type": "markdown",
   "id": "noticed-heather",
   "metadata": {},
   "source": [
    "### MobinenetV2をNeoでコンパイル\n",
    "下記 API を利用。\n",
    "* [create_compiliation_job](https://boto3.amazonaws.com/v1/documentation/api/latest/reference/services/sagemaker.html#SageMaker.Client.create_compilation_job)(コンパイルジョブを作成)\n",
    "* [describe_compilation_job](https://boto3.amazonaws.com/v1/documentation/api/latest/reference/services/sagemaker.html#SageMaker.Client.describe_compilation_job)(コンパイルジョブの状態を取得)"
   ]
  },
  {
   "cell_type": "code",
   "execution_count": null,
   "id": "biblical-radiation",
   "metadata": {},
   "outputs": [],
   "source": [
    "keras_model_data_shape = '{\"input_1\":[1,3,224,224]}'\n",
    "keras_model_framework = 'keras'\n",
    "target_device = 'ml_c5'"
   ]
  },
  {
   "cell_type": "code",
   "execution_count": null,
   "id": "noble-hampton",
   "metadata": {},
   "outputs": [],
   "source": [
    "keras_compilation_job_name = 'Sagemaker-Edge-'+ str(time()).split('.')[0]\n",
    "print(f'Compilation job for {keras_compilation_job_name} started')\n",
    "\n",
    "response = sagemaker_client.create_compilation_job(\n",
    "        CompilationJobName=keras_compilation_job_name,\n",
    "        RoleArn=role,\n",
    "        InputConfig={\n",
    "            'S3Uri': keras_model_path,\n",
    "            'DataInputConfig': keras_model_data_shape,\n",
    "            'Framework': keras_model_framework.upper()\n",
    "        },\n",
    "        OutputConfig={\n",
    "            'S3OutputLocation': s3_compilation_output_location,\n",
    "            'TargetDevice': target_device \n",
    "        },\n",
    "        StoppingCondition={\n",
    "            'MaxRuntimeInSeconds': 900\n",
    "        }\n",
    "    )\n",
    "\n",
    "print(response)\n",
    "\n",
    "# 30秒周期でポーリング\n",
    "while True:\n",
    "    response = sagemaker_client.describe_compilation_job(CompilationJobName=keras_compilation_job_name)\n",
    "    if response['CompilationJobStatus'] == 'COMPLETED':\n",
    "        break\n",
    "    elif response['CompilationJobStatus'] == 'FAILED':\n",
    "        raise RuntimeError('Compilation failed')\n",
    "    print('Compiling ...')\n",
    "    sleep(30)\n",
    "print('Done!')"
   ]
  },
  {
   "cell_type": "code",
   "execution_count": null,
   "id": "recovered-steering",
   "metadata": {},
   "outputs": [],
   "source": [
    "keras_packaged_model_name = \"keras-model\"\n",
    "keras_model_version = \"1.0\"\n",
    "keras_model_package = '{}-{}.tar.gz'.format(keras_packaged_model_name, keras_model_version)\n",
    "print(f'keras_model_package: {keras_model_package}')"
   ]
  },
  {
   "cell_type": "markdown",
   "id": "major-reflection",
   "metadata": {},
   "source": [
    "### EdgeManagerでモデルをパッケージ化\n",
    "下記 API を使用\n",
    "* [create_edge_packaging_job](https://boto3.amazonaws.com/v1/documentation/api/latest/reference/services/sagemaker.html#SageMaker.Client.create_edge_packaging_job)\n",
    "* [describe_edge_packaging_job](https://boto3.amazonaws.com/v1/documentation/api/latest/reference/services/sagemaker.html#SageMaker.Client.describe_edge_packaging_job)"
   ]
  },
  {
   "cell_type": "code",
   "execution_count": null,
   "id": "packed-alexander",
   "metadata": {},
   "outputs": [],
   "source": [
    "keras_packaging_job_name=keras_compilation_job_name+\"-packaging\"\n",
    "response = sagemaker_client.create_edge_packaging_job(\n",
    "    RoleArn=role,\n",
    "    OutputConfig={\n",
    "        'S3OutputLocation': s3_compilation_output_location,\n",
    "    },\n",
    "    ModelName=keras_packaged_model_name,\n",
    "    ModelVersion=keras_model_version,\n",
    "    EdgePackagingJobName=keras_packaging_job_name,\n",
    "    CompilationJobName=keras_compilation_job_name,\n",
    ")\n",
    "\n",
    "print(response)\n",
    "\n",
    "# Poll every 30 sec\n",
    "while True:\n",
    "    job_status = sagemaker_client.describe_edge_packaging_job(EdgePackagingJobName=keras_packaging_job_name)\n",
    "    if job_status['EdgePackagingJobStatus'] == 'COMPLETED':\n",
    "        break\n",
    "    elif job_status['EdgePackagingJobStatus'] == 'FAILED':\n",
    "        raise RuntimeError('Edge Packaging failed')\n",
    "    print('Packaging ...')\n",
    "    sleep(30)\n",
    "print('Done!')"
   ]
  },
  {
   "cell_type": "code",
   "execution_count": null,
   "id": "correct-behavior",
   "metadata": {},
   "outputs": [],
   "source": [
    "keras_model_data = job_status[\"ModelArtifact\"]\n",
    "print(f'keras_model_data: {keras_model_data}')"
   ]
  },
  {
   "cell_type": "markdown",
   "id": "motivated-brook",
   "metadata": {},
   "source": [
    "## IoTの設定"
   ]
  },
  {
   "cell_type": "markdown",
   "id": "verbal-albert",
   "metadata": {},
   "source": [
    "### ThingとTypeを作成\n",
    "* すでにあった場合のThing,Typeなどを最初に削除する"
   ]
  },
  {
   "cell_type": "code",
   "execution_count": null,
   "id": "funded-screen",
   "metadata": {},
   "outputs": [],
   "source": [
    "# thing の名前を定義\n",
    "iot_thing_name = 'sagemaker-edge-thing-demo'\n",
    "iot_thing_type = 'SagemakerEdgeDemo'\n",
    "\n",
    "# thing の削除\n",
    "try:\n",
    "    iot_client.delete_thing(thingName=iot_thing_name)\n",
    "    print('deleted thing')\n",
    "except:\n",
    "    print('nothing to delete thing')\n",
    "# type の削除\n",
    "try:\n",
    "    iot_client.deprecate_thing_type(thingTypeName=iot_thing_type)\n",
    "    print('deprecated thing type')\n",
    "    sleep(60*5 + 10) # deprecate から5分立たないと delete できない。10 は buffer\n",
    "except:\n",
    "    print('nothing to deprecate thing type')\n",
    "try:\n",
    "    iot_client.delete_thing_type(thingTypeName=iot_thing_type)\n",
    "    print('deleted thing type')\n",
    "except:\n",
    "    print('nothing to delete thing type')\n",
    "\n",
    "\n",
    "response = iot_client.create_thing_type(thingTypeName=iot_thing_type)\n",
    "print('created thing type')\n",
    "print(response)\n",
    "\n",
    "response = iot_client.create_thing(\n",
    "    thingName=iot_thing_name,\n",
    "    thingTypeName=iot_thing_type\n",
    ")\n",
    "print('created thing')\n",
    "print(response)"
   ]
  },
  {
   "cell_type": "markdown",
   "id": "occasional-liquid",
   "metadata": {},
   "source": [
    "### Thingに割り当てるロールの作成とポリシーのアタッチ"
   ]
  },
  {
   "cell_type": "code",
   "execution_count": null,
   "id": "metric-schema",
   "metadata": {},
   "outputs": [],
   "source": [
    "# ロールの事前削除（存在する場合のみ）\n",
    "sagemaker_edgemaneger_thing_role_name = 'sagemaker-edgemanager-thing-role'\n",
    "thing_role_policy_arn_list = [\n",
    "    'arn:aws:iam::aws:policy/service-role/AmazonSageMakerEdgeDeviceFleetPolicy',\n",
    "    'arn:aws:iam::aws:policy/service-role/AWSIoTRuleActions',\n",
    "    'arn:aws:iam::aws:policy/service-role/AWSIoTLogging',\n",
    "    'arn:aws:iam::aws:policy/service-role/AWSIoTThingsRegistration'\n",
    "]\n",
    "\n",
    "for policy_arn in thing_role_policy_arn_list:    \n",
    "    try:\n",
    "        response = iam_client.detach_role_policy(RoleName=sagemaker_edgemaneger_thing_role_name,PolicyArn=policy_arn)\n",
    "        print(f'detached {policy_arn}')\n",
    "        print(json.dumps(response, indent=2))\n",
    "    except:\n",
    "        print(f'not attach {policy_arn}')\n",
    "\n",
    "\n",
    "try:\n",
    "    response = iam_client.delete_role(RoleName = sagemaker_edgemaneger_thing_role_name)\n",
    "    print('delete sagemaker edgemanager thing role')\n",
    "    print(json.dumps(response, indent=2))\n",
    "except:\n",
    "    print('nothing to delete role')\n",
    "\n",
    "\n",
    "assume_role_policy_document = {\n",
    "    \"Version\": \"2012-10-17\",\"Statement\": [\n",
    "        {\"Effect\": \"Allow\",\"Principal\": {\"Service\": \"credentials.iot.amazonaws.com\"},\"Action\": \"sts:AssumeRole\"},\n",
    "        {\"Effect\": \"Allow\",\"Principal\": {\"Service\": \"sagemaker.amazonaws.com\"},\"Action\": \"sts:AssumeRole\"}\n",
    "    ]\n",
    "}\n",
    "print('ロールを作成')\n",
    "response = iam_client.create_role(\n",
    "    RoleName = sagemaker_edgemaneger_thing_role_name,\n",
    "    AssumeRolePolicyDocument = json.dumps(assume_role_policy_document),\n",
    "    Description='edge equivalent ec2 role',\n",
    "    MaxSessionDuration=3600*12 # 12時間\n",
    ")\n",
    "sagemaker_edgemaneger_thing_role_arn = response['Role']['Arn']\n",
    "print(response)\n",
    "\n",
    "print('ポリシーをアタッチ')\n",
    "for policy_arn in thing_role_policy_arn_list:\n",
    "    response = iam_client.attach_role_policy(\n",
    "        RoleName=sagemaker_edgemaneger_thing_role_name,\n",
    "        PolicyArn=policy_arn\n",
    "    )\n",
    "    print(json.dumps(response, indent=2))\n"
   ]
  },
  {
   "cell_type": "markdown",
   "id": "endless-strike",
   "metadata": {},
   "source": [
    "## SageMakerEdgeManagerの設定"
   ]
  },
  {
   "cell_type": "markdown",
   "id": "marked-constitutional",
   "metadata": {},
   "source": [
    "### デバイスフリートの作成\n",
    "* デバイスフリートはデバイスを束ねる概念\n",
    "* デバイスフリートを作成するとロールエイリアスも自動で作成される。"
   ]
  },
  {
   "cell_type": "code",
   "execution_count": null,
   "id": "persistent-needle",
   "metadata": {},
   "outputs": [],
   "source": [
    "# sagemaker_edgemaneger_thing_role_arn の作成反映が間に合わずエラーで落ちることがあるが、再実行でうまくいく\n",
    "\n",
    "sleep(10)\n",
    "\n",
    "device_fleet_name =\"sagemaker-edge-demo-device-fleet\"\n",
    "role_alias_name = 'SageMakerEdge-' + device_fleet_name\n",
    "try:\n",
    "    sagemaker_client.delete_device_fleet(\n",
    "        DeviceFleetName=device_fleet_name\n",
    "    )\n",
    "    print('deleted device freet')\n",
    "except:\n",
    "    print('nothing to delete device freet')\n",
    "\n",
    "try:\n",
    "    iot_client.delete_role_alias(\n",
    "        roleAlias=role_alias_name\n",
    "    )\n",
    "    print('delete role alias')\n",
    "except:\n",
    "    print('nothing to delete role alias')\n",
    "    \n",
    "sagemaker_client.create_device_fleet(\n",
    "    DeviceFleetName=device_fleet_name,\n",
    "    RoleArn=sagemaker_edgemaneger_thing_role_arn,\n",
    "    OutputConfig={\n",
    "        'S3OutputLocation': s3_compilation_output_location\n",
    "    }\n",
    ")"
   ]
  },
  {
   "cell_type": "markdown",
   "id": "tutorial-satellite",
   "metadata": {},
   "source": [
    "## デバイスの登録"
   ]
  },
  {
   "cell_type": "code",
   "execution_count": null,
   "id": "ruled-utility",
   "metadata": {},
   "outputs": [],
   "source": [
    "device_name = str(uuid.uuid4()) # Device Name は 36 文字である必要あり。必ずしも UUID である必要はないが（動作確認済） 後述の config ファイルのキーでuuidと書いてあるので、uuidを利用する\n",
    "\n",
    "try:\n",
    "    sagemaker_client.deregister_devices(\n",
    "        DeviceFleetName=device_fleet_name,\n",
    "        DeviceNames=[device_name],\n",
    "    )\n",
    "    print('deregistered device')\n",
    "except:\n",
    "    print('nothing to deregister devices')\n",
    "\n",
    "\n",
    "sagemaker_client.register_devices(\n",
    "    DeviceFleetName=device_fleet_name,\n",
    "    Devices=[\n",
    "        {          \n",
    "            \"DeviceName\": device_name,\n",
    "            \"IotThingName\": iot_thing_name,\n",
    "            \"Description\": \"this is a sample virtual device\"\n",
    "        }\n",
    "    ]\n",
    ")"
   ]
  },
  {
   "cell_type": "markdown",
   "id": "regulated-sequence",
   "metadata": {},
   "source": [
    "## X.509クライアント証明書の作成と設定"
   ]
  },
  {
   "cell_type": "markdown",
   "id": "perfect-morrison",
   "metadata": {},
   "source": [
    "### 証明書の作成"
   ]
  },
  {
   "cell_type": "code",
   "execution_count": null,
   "id": "dynamic-destination",
   "metadata": {
    "scrolled": true
   },
   "outputs": [],
   "source": [
    "# 証明書と鍵の作成(IoT の証明書画面に反映される)\n",
    "iot_cert = iot_client.create_keys_and_certificate(\n",
    "    setAsActive=True\n",
    ")\n",
    "print(iot_cert)\n",
    "# 証明書を保存\n",
    "with open('./iot.pem.crt', 'w') as f:\n",
    "    for line in iot_cert['certificatePem'].split('\\n'):\n",
    "        f.write(line)\n",
    "        f.write('\\n')\n",
    "\n",
    "# 秘密鍵を保存\n",
    "with open('./iot_key.pem.key', 'w') as f:\n",
    "    for line in iot_cert['keyPair']['PrivateKey'].split('\\n'):\n",
    "        f.write(line)\n",
    "        f.write('\\n')\n",
    "\n",
    "# 公開鍵を保存\n",
    "with open('./iot_key_pair.pem.key', 'w') as f:\n",
    "    for line in iot_cert['keyPair']['PublicKey'].split('\\n'):\n",
    "        f.write(line)\n",
    "        f.write('\\n')\n",
    "\n",
    "!ls -l ./iot*"
   ]
  },
  {
   "cell_type": "markdown",
   "id": "floppy-selling",
   "metadata": {},
   "source": [
    "### 証明書とロールエイリアスを紐付けるポリシーを証明書にアタッチ\n",
    "* 証明書を持っていればエッジでロールを引き受けられる（=AWSのサービスを扱える）ようになる"
   ]
  },
  {
   "cell_type": "code",
   "execution_count": null,
   "id": "sound-pillow",
   "metadata": {},
   "outputs": [],
   "source": [
    "# ロールエイリアスの arn を取得\n",
    "role_alias_arn = iot_client.describe_role_alias(\n",
    "    roleAlias=role_alias_name\n",
    ")['roleAliasDescription']['roleAliasArn']\n",
    "print(f'role_alias_arn: {role_alias_arn}')"
   ]
  },
  {
   "cell_type": "code",
   "execution_count": null,
   "id": "iraqi-planning",
   "metadata": {},
   "outputs": [],
   "source": [
    "# ポリシー作成\n",
    "alias_policy = {\n",
    "  \"Version\": \"2012-10-17\",\n",
    "  \"Statement\": {\n",
    "    \"Effect\": \"Allow\",\n",
    "    \"Action\": \"iot:AssumeRoleWithCertificate\",\n",
    "    \"Resource\": role_alias_arn\n",
    "  }\n",
    "}\n",
    "        \n",
    "certificate_policy_name = 'assume-role-with-certificate-policy'\n",
    "\n",
    "alias_policy = iot_client.create_policy(\n",
    "    policyName=certificate_policy_name,\n",
    "    policyDocument=json.dumps(alias_policy),\n",
    ")\n",
    "\n",
    "iot_client.attach_policy(\n",
    "    policyName=certificate_policy_name,\n",
    "    target=iot_cert['certificateArn']\n",
    ")"
   ]
  },
  {
   "cell_type": "markdown",
   "id": "approximate-mechanics",
   "metadata": {},
   "source": [
    "### IoTエンドポイントを取得\n",
    "* AWSとエッジがやりとりするためのエンドポイント(URL)を取得"
   ]
  },
  {
   "cell_type": "code",
   "execution_count": null,
   "id": "interim-cloud",
   "metadata": {},
   "outputs": [],
   "source": [
    "## IoT エンドポイントを取得\n",
    "iot_endpoint = iot_client.describe_endpoint(\n",
    "    endpointType='iot:CredentialProvider'\n",
    ")\n",
    "endpoint = f'https://{iot_endpoint[\"endpointAddress\"]}/role-aliases/{role_alias_name}/credentials'\n",
    "print(f'endpoint: {endpoint}')"
   ]
  },
  {
   "cell_type": "markdown",
   "id": "abroad-pitch",
   "metadata": {},
   "source": [
    "### RootCAの取得"
   ]
  },
  {
   "cell_type": "code",
   "execution_count": null,
   "id": "anonymous-pulse",
   "metadata": {},
   "outputs": [],
   "source": [
    "!wget https://www.amazontrust.com/repository/AmazonRootCA1.pem"
   ]
  },
  {
   "cell_type": "markdown",
   "id": "reported-latvia",
   "metadata": {},
   "source": [
    "### IoTエンドポイントの動作確認\n",
    "* 作成した証明書と、その証明書の RootCA を使ってエンドポイントにアクセスできるかを確認する\n",
    "* 問題なければその証明書に紐づくロールエイリアスの credentials が手に入る"
   ]
  },
  {
   "cell_type": "code",
   "execution_count": null,
   "id": "fifteen-retirement",
   "metadata": {},
   "outputs": [],
   "source": [
    "!curl --cert iot.pem.crt --key iot_key.pem.key --cacert AmazonRootCA1.pem $endpoint"
   ]
  },
  {
   "cell_type": "markdown",
   "id": "optional-commercial",
   "metadata": {},
   "source": [
    "### 証明書たちをS3にアップロードする\n",
    "* SageMaker EdgeManager のエージェントをエッジにインストール後、起動前の設定で使用する"
   ]
  },
  {
   "cell_type": "code",
   "execution_count": null,
   "id": "accurate-credit",
   "metadata": {},
   "outputs": [],
   "source": [
    "root_ca_path = sess.upload_data('AmazonRootCA1.pem', bucket, iot_folder)\n",
    "device_cert_path = sess.upload_data('iot.pem.crt', bucket, iot_folder)\n",
    "device_key_path = sess.upload_data('iot_key.pem.key', bucket, iot_folder)\n",
    "print(f'root_ca_path: {root_ca_path}')\n",
    "print(f'device_cert_path: {device_cert_path}')\n",
    "print(f'device_key_path: {device_key_path}')"
   ]
  },
  {
   "cell_type": "markdown",
   "id": "incredible-garden",
   "metadata": {},
   "source": [
    "## エッジの準備と推論"
   ]
  },
  {
   "cell_type": "markdown",
   "id": "hired-alignment",
   "metadata": {},
   "source": [
    "### Agentをエッジにダウンロード\n",
    "ここからエッジデバイスの操作を行う。本来の(EC2ではない)エッジデバイスを操作するためには、コンソールに入るか、SSHでリモートログインして行うことが多いが、今回は EC2 のため、Systems Manager の Session Manager 機能を使って、このノートブックから shell コマンドを送り込む。\n",
    "* Agent アプリは S3 でホストされているので、エッジ側でそのアプリをダウンロードする\n",
    "* tar.gz で固めてあるので、展開するコマンドを実行する\n",
    "* 他設定ファイル(agent.env)の中身を設定する\n",
    "* bin/以下の実行ファイルについて実行権限を与える（最終的にはインストールディレクトリにコピーされるが、コピー元のファイルに実行権限を先行して与えておく）"
   ]
  },
  {
   "cell_type": "code",
   "execution_count": null,
   "id": "integrated-glass",
   "metadata": {},
   "outputs": [],
   "source": [
    "# OSごとのバケットを定義\n",
    "release_bucket_map = {\n",
    "    'armv8' : 'sagemaker-edge-release-store-us-west-2-linux-armv8',\n",
    "    'linux' : 'sagemaker-edge-release-store-us-west-2-linux-x64',\n",
    "    'win64' : 'sagemaker-edge-release-store-us-west-2-windows-x64',\n",
    "    'win32' : 'sagemaker-edge-release-store-us-west-2-windows-x86',\n",
    "}\n",
    "# EC2 を Ubuntu で立ち上げているため Linux を選択\n",
    "release_bucket = release_bucket_map['linux']"
   ]
  },
  {
   "cell_type": "code",
   "execution_count": null,
   "id": "sensitive-halloween",
   "metadata": {},
   "outputs": [],
   "source": [
    "# 最新バージョンのプレフィックスを取得\n",
    "response = s3_client.list_objects(\n",
    "    Bucket=release_bucket,\n",
    "    Prefix='Releases/',\n",
    ")\n",
    "agent_version_list = []\n",
    "for content in response['Contents']:\n",
    "    if content['Key'][-4:] == '.tgz':\n",
    "        agent_version_list.append(content['Key'])\n",
    "agent_version_list.sort()\n",
    "agent_latest_version_prefix = agent_version_list[-1]\n",
    "print(agent_latest_version_prefix)"
   ]
  },
  {
   "cell_type": "code",
   "execution_count": null,
   "id": "aerial-holiday",
   "metadata": {},
   "outputs": [],
   "source": [
    "# エッジで実行するコマンドの定義\n",
    "agent_download_dir = '/sagemaker_agent'\n",
    "agent_install_dir = '/opt/aws/sagemaker_edge'\n",
    "# root で実行される\n",
    "command_str = f\"\"\"#!/bin/bash\n",
    "mkdir -p {agent_download_dir}\n",
    "mkdir -p {agent_install_dir}\n",
    "cd {agent_download_dir}\n",
    "aws s3 cp s3://{release_bucket}/{agent_latest_version_prefix} agent.tgz\n",
    "tar -xf agent.tgz\n",
    "sudo sed -i  \"s/<unix socket address>/\\/tmp\\/sagemaker_edge_agent_example.sock/g\" agent.env\n",
    "sudo sed -i \"s/<path to agent configuration file>/sagemaker_edge_config.json/g\" agent.env\n",
    "chmod +x {agent_download_dir}/bin/sagemaker_edge_agent_binary\n",
    "chmod +x {agent_download_dir}/bin/sagemaker_edge_agent_client_example\n",
    "\"\"\"\n",
    "command_list = command_str.split('\\n')\n",
    "print('実行コマンド\\n----------')\n",
    "for command in command_list:\n",
    "    print(command)"
   ]
  },
  {
   "cell_type": "code",
   "execution_count": null,
   "id": "tired-firmware",
   "metadata": {},
   "outputs": [],
   "source": [
    "document_name = \"AWS-RunShellScript\"\n",
    "response = ssm_client.send_command(\n",
    "    InstanceIds=[instance_id],\n",
    "    DocumentName=document_name,\n",
    "    OutputS3BucketName=bucket,\n",
    "    OutputS3KeyPrefix=folder,\n",
    "    Parameters={\n",
    "        'commands': command_list\n",
    "    }\n",
    ")\n",
    "command_id=response['Command']['CommandId']\n",
    "print(response)\n",
    "retry_cnt = 0\n",
    "while retry_cnt < 20:\n",
    "    try:\n",
    "        response = ssm_client.get_command_invocation(\n",
    "            CommandId=command_id,\n",
    "            InstanceId=instance_id,\n",
    "        )\n",
    "        print(response['Status'])\n",
    "        if response['Status'] in ['Success','Failed']:\n",
    "            print(response['StandardOutputContent'])\n",
    "            break\n",
    "        else:\n",
    "            retry_cnt += 1\n",
    "            sleep(10)\n",
    "    except:\n",
    "        print('invocation does not exist yet')\n",
    "        retry_cnt += 1\n",
    "        sleep(10)"
   ]
  },
  {
   "cell_type": "code",
   "execution_count": null,
   "id": "horizontal-jefferson",
   "metadata": {},
   "outputs": [],
   "source": [
    "# 標準エラー出力を確認\n",
    "key=f'{folder}/{command_id}/{instance_id}/awsrunShellScript/0.awsrunShellScript/stderr'\n",
    "try:\n",
    "    txt = s3_client.get_object(Bucket=bucket,Key=key)['Body'].read().decode('utf-8')\n",
    "    print(txt)\n",
    "except:\n",
    "    print('No Error')"
   ]
  },
  {
   "cell_type": "code",
   "execution_count": null,
   "id": "functional-relation",
   "metadata": {},
   "outputs": [],
   "source": [
    "# 標準出力を確認\n",
    "key=f'{folder}/{command_id}/{instance_id}/awsrunShellScript/0.awsrunShellScript/stdout'\n",
    "txt = s3_client.get_object(Bucket=bucket,Key=key)['Body'].read().decode('utf-8')\n",
    "print(txt)"
   ]
  },
  {
   "cell_type": "markdown",
   "id": "aging-algorithm",
   "metadata": {},
   "source": [
    "## 各種ファイルをエッジ側でダウンロード\n",
    "* 証明書や、config.json、パッケージ化したモデルなどをS3からエッジ側にダウンロードする"
   ]
  },
  {
   "cell_type": "code",
   "execution_count": null,
   "id": "eastern-consciousness",
   "metadata": {},
   "outputs": [],
   "source": [
    "certificate_dir = f'{agent_install_dir}/certificates'\n",
    "iot_credential_dir = f'{agent_install_dir}/iot-credentials'\n",
    "darknet_model_dir = f'{agent_install_dir}/darknet_model'\n",
    "keras_model_dir = f'{agent_install_dir}/keras_model'\n",
    "\n",
    "command_str = f\"\"\"#!/bin/bash\n",
    "cd {agent_install_dir}\n",
    "mkdir -p {certificate_dir}\n",
    "aws s3 cp s3://{release_bucket}/Certificates/{region}/{region}.pem {certificate_dir}\n",
    "chmod -R 444 {certificate_dir}\n",
    "mkdir -p {iot_credential_dir}\n",
    "aws s3 cp {root_ca_path} {iot_credential_dir}\n",
    "aws s3 cp {device_cert_path} {iot_credential_dir}\n",
    "aws s3 cp {device_key_path} {iot_credential_dir}\n",
    "chmod -R 444 {iot_credential_dir}\n",
    "aws s3 cp {keras_img_path} {agent_install_dir}\n",
    "aws s3 cp {keras_model_data} {agent_install_dir}\n",
    "mkdir -p {keras_model_dir}\n",
    "tar -xf {keras_model_package} -C {keras_model_dir}\n",
    "\"\"\"\n",
    "command_list = command_str.split('\\n')\n",
    "print('実行コマンド\\n----------')\n",
    "for command in command_list:\n",
    "    print(command)"
   ]
  },
  {
   "cell_type": "code",
   "execution_count": null,
   "id": "active-congo",
   "metadata": {},
   "outputs": [],
   "source": [
    "document_name = \"AWS-RunShellScript\"\n",
    "response = ssm_client.send_command(\n",
    "    InstanceIds=[instance_id],\n",
    "    DocumentName=document_name,\n",
    "    OutputS3BucketName=bucket,\n",
    "    OutputS3KeyPrefix=folder,\n",
    "    Parameters={\n",
    "        'commands': command_list\n",
    "    }\n",
    ")\n",
    "command_id=response['Command']['CommandId']\n",
    "print(response)\n",
    "retry_cnt = 0\n",
    "while retry_cnt < 20:\n",
    "    try:\n",
    "        response = ssm_client.get_command_invocation(\n",
    "            CommandId=command_id,\n",
    "            InstanceId=instance_id,\n",
    "        )\n",
    "        print(response['Status'])\n",
    "        if response['Status'] in ['Success','Failed']:\n",
    "            print(response['StandardOutputContent'])\n",
    "            break\n",
    "        else:\n",
    "            retry_cnt += 1\n",
    "            sleep(10)\n",
    "    except:\n",
    "        print('invocation does not exist yet')\n",
    "        retry_cnt += 1\n",
    "        sleep(10)"
   ]
  },
  {
   "cell_type": "code",
   "execution_count": null,
   "id": "classical-thesaurus",
   "metadata": {},
   "outputs": [],
   "source": [
    "# 標準エラー出力を確認\n",
    "key=f'{folder}/{command_id}/{instance_id}/awsrunShellScript/0.awsrunShellScript/stderr'\n",
    "try:\n",
    "    txt = s3_client.get_object(Bucket=bucket,Key=key)['Body'].read().decode('utf-8')\n",
    "    print(txt)\n",
    "except:\n",
    "    print('No Error')"
   ]
  },
  {
   "cell_type": "code",
   "execution_count": null,
   "id": "residential-burke",
   "metadata": {},
   "outputs": [],
   "source": [
    "# 標準出力を確認\n",
    "key=f'{folder}/{command_id}/{instance_id}/awsrunShellScript/0.awsrunShellScript/stdout'\n",
    "txt = s3_client.get_object(Bucket=bucket,Key=key)['Body'].read().decode('utf-8')\n",
    "print(txt)"
   ]
  },
  {
   "cell_type": "markdown",
   "id": "eastern-welcome",
   "metadata": {},
   "source": [
    "## Agentのconfigファイルの配置とAgentのdaemonを起動\n",
    "* 1.20210305.a4bc999リリースから、SageMaker EdgeManager の Agent が Daemon 化された\n",
    "* install.sh を実行すると daemon の登録から自動起動まで動く"
   ]
  },
  {
   "cell_type": "code",
   "execution_count": null,
   "id": "solid-juice",
   "metadata": {},
   "outputs": [],
   "source": [
    "# 設定ファイル作成\n",
    "capture_prefix = 'demo_capture'\n",
    "sagemaker_edge_config = json.dumps({\n",
    "    'sagemaker_edge_core_device_uuid': device_name,\n",
    "    'sagemaker_edge_core_device_fleet_name': device_fleet_name,\n",
    "    'sagemaker_edge_core_capture_data_buffer_size': 30,\n",
    "    'sagemaker_edge_core_capture_data_batch_size': 10,\n",
    "    'sagemaker_edge_core_capture_data_push_period_seconds': 4,\n",
    "    'sagemaker_edge_core_folder_prefix': capture_prefix,\n",
    "    'sagemaker_edge_core_region': region,\n",
    "    'sagemaker_edge_core_root_certs_path': f'{agent_install_dir}/certificates',\n",
    "    'sagemaker_edge_provider_aws_ca_cert_file': f'{agent_install_dir}/iot-credentials/AmazonRootCA1.pem',\n",
    "    'sagemaker_edge_provider_aws_cert_file': f'{agent_install_dir}/iot-credentials/iot.pem.crt',\n",
    "    'sagemaker_edge_provider_aws_cert_pk_file': f'{agent_install_dir}/iot-credentials/iot_key.pem.key',\n",
    "    'sagemaker_edge_provider_aws_iot_cred_endpoint': endpoint,\n",
    "    'sagemaker_edge_provider_provider': 'Aws',\n",
    "    'sagemaker_edge_provider_s3_bucket_name': bucket,\n",
    "    'sagemaker_edge_core_capture_data_destination': 'Cloud'\n",
    "},indent=4)\n",
    "print(sagemaker_edge_config)"
   ]
  },
  {
   "cell_type": "code",
   "execution_count": null,
   "id": "undefined-palestine",
   "metadata": {},
   "outputs": [],
   "source": [
    "sagemaker_edge_config_file = 'sagemaker_edge_config.json'\n",
    "with open(sagemaker_edge_config_file,'w') as f:\n",
    "    f.write(sagemaker_edge_config)"
   ]
  },
  {
   "cell_type": "code",
   "execution_count": null,
   "id": "living-forest",
   "metadata": {},
   "outputs": [],
   "source": [
    "config_path = sess.upload_data(sagemaker_edge_config_file, bucket, iot_folder)\n",
    "print(config_path)"
   ]
  },
  {
   "cell_type": "code",
   "execution_count": null,
   "id": "molecular-bread",
   "metadata": {},
   "outputs": [],
   "source": [
    "command_str = f\"\"\"#!/bin/bash\n",
    "aws s3 cp {config_path} {agent_install_dir}\n",
    "cd {agent_download_dir}\n",
    "rm -f /tmp/sagemaker_edge_agent_example.sock\n",
    "echo {agent_install_dir} | bash ./install.sh\n",
    "# ./bin/sagemaker_edge_agent_binary -a /tmp/sagemaker_edge_agent_example.sock -c sagemaker_edge_config.json\n",
    "\"\"\"\n",
    "command_list = command_str.split('\\n')\n",
    "print('実行コマンド\\n----------')\n",
    "for command in command_list:\n",
    "    print(command)"
   ]
  },
  {
   "cell_type": "code",
   "execution_count": null,
   "id": "applied-parameter",
   "metadata": {
    "scrolled": true
   },
   "outputs": [],
   "source": [
    "document_name = \"AWS-RunShellScript\"\n",
    "agent_out = ssm_client.send_command(\n",
    "    InstanceIds=[instance_id],\n",
    "    DocumentName=document_name,\n",
    "    OutputS3BucketName=bucket,\n",
    "    OutputS3KeyPrefix=folder,\n",
    "    Parameters={\n",
    "        'commands': command_list\n",
    "    }\n",
    ")\n",
    "agent_out_id=agent_out['Command']['CommandId']\n",
    "print(response)\n",
    "retry_cnt = 0\n",
    "while retry_cnt < 3:\n",
    "    try:\n",
    "        response = ssm_client.get_command_invocation(\n",
    "            CommandId=agent_out_id,\n",
    "            InstanceId=instance_id,\n",
    "        )\n",
    "        print(response['Status'])\n",
    "        if response['Status'] in ['Success','Failed']:\n",
    "            print(response['StandardOutputContent'])\n",
    "            break\n",
    "        else:\n",
    "            retry_cnt += 1\n",
    "            sleep(20)\n",
    "    except:\n",
    "        print('invocation does not exist yet')\n",
    "        retry_cnt += 1\n",
    "        sleep(10)"
   ]
  },
  {
   "cell_type": "code",
   "execution_count": null,
   "id": "animal-novel",
   "metadata": {},
   "outputs": [],
   "source": [
    "# 標準エラー出力を確認\n",
    "key=f'{folder}/{command_id}/{instance_id}/awsrunShellScript/0.awsrunShellScript/stderr'\n",
    "try:\n",
    "    txt = s3_client.get_object(Bucket=bucket,Key=key)['Body'].read().decode('utf-8')\n",
    "    print(txt)\n",
    "except:\n",
    "    print('No Error')"
   ]
  },
  {
   "cell_type": "code",
   "execution_count": null,
   "id": "annoying-triple",
   "metadata": {},
   "outputs": [],
   "source": [
    "# 標準出力を確認\n",
    "key=f'{folder}/{command_id}/{instance_id}/awsrunShellScript/0.awsrunShellScript/stdout'\n",
    "try:\n",
    "    txt = s3_client.get_object(Bucket=bucket,Key=key)['Body'].read().decode('utf-8')\n",
    "    print(txt)\n",
    "except:\n",
    "    pass"
   ]
  },
  {
   "cell_type": "markdown",
   "id": "green-witness",
   "metadata": {},
   "source": [
    "### モデルをAgentにロード\n",
    "* Agent を利用して推論する前に Agent 側にモデルをロードする必要がある。\n",
    "* LoadModel API を利用する"
   ]
  },
  {
   "cell_type": "code",
   "execution_count": null,
   "id": "central-output",
   "metadata": {},
   "outputs": [],
   "source": [
    "keras_model_name = 'demo-keras'\n",
    "command_str = f\"\"\"#!/bin/bash\n",
    "cd {agent_install_dir}\n",
    "./bin/sagemaker_edge_agent_client_example LoadModel keras_model {keras_model_name}\n",
    "\"\"\"\n",
    "command_list = command_str.split('\\n')\n",
    "print('実行コマンド\\n----------')\n",
    "for command in command_list:\n",
    "    print(command)"
   ]
  },
  {
   "cell_type": "code",
   "execution_count": null,
   "id": "falling-cheese",
   "metadata": {},
   "outputs": [],
   "source": [
    "document_name = \"AWS-RunShellScript\"\n",
    "response = ssm_client.send_command(\n",
    "    InstanceIds=[instance_id],\n",
    "    DocumentName=document_name,\n",
    "    OutputS3BucketName=bucket,\n",
    "    OutputS3KeyPrefix=folder,\n",
    "    Parameters={\n",
    "        'commands': command_list\n",
    "    }\n",
    ")\n",
    "command_id=response['Command']['CommandId']\n",
    "print(response)\n",
    "retry_cnt = 0\n",
    "while retry_cnt < 20:\n",
    "    try:\n",
    "        response = ssm_client.get_command_invocation(\n",
    "            CommandId=command_id,\n",
    "            InstanceId=instance_id,\n",
    "        )\n",
    "        print(response['Status'])\n",
    "        if response['Status'] in ['Success','Failed']:\n",
    "            print(response['StandardOutputContent'])\n",
    "            break\n",
    "        else:\n",
    "            retry_cnt += 1\n",
    "            sleep(10)\n",
    "    except:\n",
    "        print('invocation does not exist yet')\n",
    "        retry_cnt += 1\n",
    "        sleep(10)"
   ]
  },
  {
   "cell_type": "code",
   "execution_count": null,
   "id": "mathematical-plaintiff",
   "metadata": {},
   "outputs": [],
   "source": [
    "# 標準エラー出力を確認\n",
    "key=f'{folder}/{command_id}/{instance_id}/awsrunShellScript/0.awsrunShellScript/stderr'\n",
    "try:\n",
    "    txt = s3_client.get_object(Bucket=bucket,Key=key)['Body'].read().decode('utf-8')\n",
    "    print(txt)\n",
    "except:\n",
    "    print('No Error')"
   ]
  },
  {
   "cell_type": "code",
   "execution_count": null,
   "id": "introductory-sister",
   "metadata": {},
   "outputs": [],
   "source": [
    "# 標準出力を確認\n",
    "key=f'{folder}/{command_id}/{instance_id}/awsrunShellScript/0.awsrunShellScript/stdout'\n",
    "try:\n",
    "    txt = s3_client.get_object(Bucket=bucket,Key=key)['Body'].read().decode('utf-8')\n",
    "    print(txt)\n",
    "except:\n",
    "    pass"
   ]
  },
  {
   "cell_type": "markdown",
   "id": "agreed-index",
   "metadata": {},
   "source": [
    "### ロードしたモデルの確認\n",
    "* ロードしたモデルを確認するには ListModels API を利用する\n",
    "* モデルのロードは複数行うことができる(前項の[モデルをAgentにロード](#モデルをAgentにロード)で他のモデルもロードすればよい)ので、現在ロードしているモデル一覧を表示させる"
   ]
  },
  {
   "cell_type": "code",
   "execution_count": null,
   "id": "defined-moses",
   "metadata": {},
   "outputs": [],
   "source": [
    "command_str = f\"\"\"#!/bin/bash\n",
    "cd {agent_install_dir}\n",
    "./bin/sagemaker_edge_agent_client_example ListModels\n",
    "\"\"\"\n",
    "command_list = command_str.split('\\n')\n",
    "print('実行コマンド\\n----------')\n",
    "for command in command_list:\n",
    "    print(command)"
   ]
  },
  {
   "cell_type": "code",
   "execution_count": null,
   "id": "given-smith",
   "metadata": {
    "scrolled": true
   },
   "outputs": [],
   "source": [
    "document_name = \"AWS-RunShellScript\"\n",
    "response = ssm_client.send_command(\n",
    "    InstanceIds=[instance_id],\n",
    "    DocumentName=document_name,\n",
    "    OutputS3BucketName=bucket,\n",
    "    OutputS3KeyPrefix=folder,\n",
    "    Parameters={\n",
    "        'commands': command_list\n",
    "    }\n",
    ")\n",
    "command_id=response['Command']['CommandId']\n",
    "print(response)\n",
    "retry_cnt = 0\n",
    "while retry_cnt < 20:\n",
    "    try:\n",
    "        response = ssm_client.get_command_invocation(\n",
    "            CommandId=command_id,\n",
    "            InstanceId=instance_id,\n",
    "        )\n",
    "        print(response['Status'])\n",
    "        if response['Status'] in ['Success','Failed']:\n",
    "            print(response['StandardOutputContent'])\n",
    "            break\n",
    "        else:\n",
    "            retry_cnt += 1\n",
    "            sleep(10)\n",
    "    except:\n",
    "        print('invocation does not exist yet')\n",
    "        retry_cnt += 1\n",
    "        sleep(10)"
   ]
  },
  {
   "cell_type": "code",
   "execution_count": null,
   "id": "oriental-minister",
   "metadata": {},
   "outputs": [],
   "source": [
    "# 標準エラー出力を確認\n",
    "key=f'{folder}/{command_id}/{instance_id}/awsrunShellScript/0.awsrunShellScript/stderr'\n",
    "try:\n",
    "    txt = s3_client.get_object(Bucket=bucket,Key=key)['Body'].read().decode('utf-8')\n",
    "    print(txt)\n",
    "except:\n",
    "    print('No Error')"
   ]
  },
  {
   "cell_type": "code",
   "execution_count": null,
   "id": "brilliant-light",
   "metadata": {},
   "outputs": [],
   "source": [
    "# 標準出力を確認\n",
    "key=f'{folder}/{command_id}/{instance_id}/awsrunShellScript/0.awsrunShellScript/stdout'\n",
    "txt = s3_client.get_object(Bucket=bucket,Key=key)['Body'].read().decode('utf-8')\n",
    "print(txt)"
   ]
  },
  {
   "cell_type": "markdown",
   "id": "speaking-glance",
   "metadata": {},
   "source": [
    "### Agentを利用して推論\n",
    "* Agentを利用して推論するには、Predict API を利用する。\n",
    "* 引数には、①ロードしたモデルの名前②推論したいファイル③入力層④Tensorの形、を指定する"
   ]
  },
  {
   "cell_type": "code",
   "execution_count": null,
   "id": "differential-perspective",
   "metadata": {},
   "outputs": [],
   "source": [
    "command_str = f\"\"\"#!/bin/bash\n",
    "cd {agent_install_dir}\n",
    "./bin/sagemaker_edge_agent_client_example Predict {keras_model_name} keras.bmp input_1 224 224 3\n",
    "\"\"\"\n",
    "command_list = command_str.split('\\n')\n",
    "print('実行コマンド\\n----------')\n",
    "for command in command_list:\n",
    "    print(command)"
   ]
  },
  {
   "cell_type": "code",
   "execution_count": null,
   "id": "dimensional-farming",
   "metadata": {
    "scrolled": true
   },
   "outputs": [],
   "source": [
    "document_name = \"AWS-RunShellScript\"\n",
    "response = ssm_client.send_command(\n",
    "    InstanceIds=[instance_id],\n",
    "    DocumentName=document_name,\n",
    "    OutputS3BucketName=bucket,\n",
    "    OutputS3KeyPrefix=folder,\n",
    "    Parameters={\n",
    "        'commands': command_list\n",
    "    }\n",
    ")\n",
    "command_id=response['Command']['CommandId']\n",
    "print(response)\n",
    "retry_cnt = 0\n",
    "while retry_cnt < 20:\n",
    "    try:\n",
    "        response = ssm_client.get_command_invocation(\n",
    "            CommandId=command_id,\n",
    "            InstanceId=instance_id,\n",
    "        )\n",
    "        print(response['Status'])\n",
    "        if response['Status'] in ['Success','Failed']:\n",
    "            print(response['StandardOutputContent'])\n",
    "            break\n",
    "        else:\n",
    "            retry_cnt += 1\n",
    "            sleep(10)\n",
    "    except:\n",
    "        print('invocation does not exist yet')\n",
    "        retry_cnt += 1\n",
    "        sleep(10)"
   ]
  },
  {
   "cell_type": "code",
   "execution_count": null,
   "id": "accredited-stretch",
   "metadata": {},
   "outputs": [],
   "source": [
    "# 標準エラー出力を確認\n",
    "key=f'{folder}/{command_id}/{instance_id}/awsrunShellScript/0.awsrunShellScript/stderr'\n",
    "try:\n",
    "    txt = s3_client.get_object(Bucket=bucket,Key=key)['Body'].read().decode('utf-8')\n",
    "    print(txt)\n",
    "except:\n",
    "    print('No Error')"
   ]
  },
  {
   "cell_type": "code",
   "execution_count": null,
   "id": "fifty-modeling",
   "metadata": {
    "scrolled": true
   },
   "outputs": [],
   "source": [
    "# 標準出力を確認\n",
    "key=f'{folder}/{command_id}/{instance_id}/awsrunShellScript/0.awsrunShellScript/stdout'\n",
    "txt = s3_client.get_object(Bucket=bucket,Key=key)['Body'].read().decode('utf-8')\n",
    "print(txt)"
   ]
  },
  {
   "cell_type": "code",
   "execution_count": null,
   "id": "separate-receipt",
   "metadata": {},
   "outputs": [],
   "source": [
    "sagemaker_client.describe_device(\n",
    "    DeviceName=device_name,\n",
    "    DeviceFleetName=device_fleet_name\n",
    ")"
   ]
  },
  {
   "cell_type": "markdown",
   "id": "dynamic-match",
   "metadata": {},
   "source": [
    "### データのキャプチャ\n",
    "* エッジで推論するだけでなく、推論の入力と出力をS3に保存したい場合は PredicAndCapture API を利用する\n",
    "* 引数は Predict API と同じ\n",
    "* S3 への保存先は config.json で設定する"
   ]
  },
  {
   "cell_type": "code",
   "execution_count": null,
   "id": "studied-assets",
   "metadata": {},
   "outputs": [],
   "source": [
    "command_str = f\"\"\"#!/bin/bash\n",
    "cd {agent_install_dir}\n",
    "./bin/sagemaker_edge_agent_client_example PredictAndCapture {keras_model_name} keras.bmp input_1 224 224 3\n",
    "\"\"\"\n",
    "command_list = command_str.split('\\n')\n",
    "print('実行コマンド\\n----------')\n",
    "for command in command_list:\n",
    "    print(command)"
   ]
  },
  {
   "cell_type": "code",
   "execution_count": null,
   "id": "criminal-teacher",
   "metadata": {
    "scrolled": true
   },
   "outputs": [],
   "source": [
    "document_name = \"AWS-RunShellScript\"\n",
    "response = ssm_client.send_command(\n",
    "    InstanceIds=[instance_id],\n",
    "    DocumentName=document_name,\n",
    "    OutputS3BucketName=bucket,\n",
    "    OutputS3KeyPrefix=folder,\n",
    "    Parameters={\n",
    "        'commands': command_list\n",
    "    }\n",
    ")\n",
    "command_id=response['Command']['CommandId']\n",
    "print(response)\n",
    "retry_cnt = 0\n",
    "while retry_cnt < 20:\n",
    "    try:\n",
    "        response = ssm_client.get_command_invocation(\n",
    "            CommandId=command_id,\n",
    "            InstanceId=instance_id,\n",
    "        )\n",
    "        print(response['Status'])\n",
    "        if response['Status'] in ['Success','Failed']:\n",
    "            print(response['StandardOutputContent'])\n",
    "            break\n",
    "        else:\n",
    "            retry_cnt += 1\n",
    "            sleep(10)\n",
    "    except:\n",
    "        print('invocation does not exist yet')\n",
    "        retry_cnt += 1\n",
    "        sleep(10)"
   ]
  },
  {
   "cell_type": "code",
   "execution_count": null,
   "id": "roman-jason",
   "metadata": {},
   "outputs": [],
   "source": [
    "# 標準エラー出力を確認\n",
    "key=f'{folder}/{command_id}/{instance_id}/awsrunShellScript/0.awsrunShellScript/stderr'\n",
    "try:\n",
    "    txt = s3_client.get_object(Bucket=bucket,Key=key)['Body'].read().decode('utf-8')\n",
    "    print(txt)\n",
    "except:\n",
    "    print('No Error')"
   ]
  },
  {
   "cell_type": "code",
   "execution_count": null,
   "id": "indirect-syria",
   "metadata": {
    "scrolled": true
   },
   "outputs": [],
   "source": [
    "# 標準出力を確認\n",
    "key=f'{folder}/{command_id}/{instance_id}/awsrunShellScript/0.awsrunShellScript/stdout'\n",
    "txt = s3_client.get_object(Bucket=bucket,Key=key)['Body'].read().decode('utf-8')\n",
    "print(txt)"
   ]
  },
  {
   "cell_type": "code",
   "execution_count": null,
   "id": "republican-sitting",
   "metadata": {},
   "outputs": [],
   "source": [
    "# Capture データの確認\n",
    "response = s3_client.list_objects(\n",
    "    Bucket=bucket,\n",
    "    Prefix=f'{capture_prefix}/{device_fleet_name}/{keras_model_name}/',\n",
    ")\n",
    "key_list = []\n",
    "input_tensor_list = []\n",
    "output_tensor_list = []\n",
    "for content in response['Contents']:\n",
    "    if content['Key'][-6:] == '.jsonl':\n",
    "        key_list.append(content['Key'])\n",
    "    elif 'raw-data/input-tensors' in content['Key']:\n",
    "        input_tensor_list.append(content['Key'])\n",
    "    elif 'raw-data/output-tensors' in content['Key']:\n",
    "        output_tensor_list.append(content['Key'])\n",
    "key_list.sort(reverse=True)\n",
    "input_tensor_list.sort(reverse=True)\n",
    "output_tensor_list.sort(reverse=True)\n",
    "\n",
    "txt = s3_client.get_object(Bucket=bucket,Key=key_list[0])['Body'].read().decode('utf-8')\n",
    "print(key_list[0])\n",
    "print(txt)\n",
    "\n",
    "# Rawdata はこちら\n",
    "# input_binary_data = s3_client.get_object(Bucket=bucket,Key=input_tensor_list[0])['Body'].read()\n",
    "# binary_data = s3_client.get_object(Bucket=bucket,Key=output_tensor_list[0])['Body'].read()"
   ]
  },
  {
   "cell_type": "markdown",
   "id": "compliant-hydrogen",
   "metadata": {},
   "source": [
    "### モデルをAgentからアンロード\n",
    "* 使わなくなったモデルはアンロードできる。\n",
    "* UnloadModel API を利用する。引数はモデルの名前のみ"
   ]
  },
  {
   "cell_type": "code",
   "execution_count": null,
   "id": "heated-franklin",
   "metadata": {},
   "outputs": [],
   "source": [
    "command_str = f\"\"\"#!/bin/bash\n",
    "cd {agent_install_dir}\n",
    "./bin/sagemaker_edge_agent_client_example UnloadModel {keras_model_name}\n",
    "\"\"\"\n",
    "command_list = command_str.split('\\n')\n",
    "print('実行コマンド\\n----------')\n",
    "for command in command_list:\n",
    "    print(command)"
   ]
  },
  {
   "cell_type": "code",
   "execution_count": null,
   "id": "desperate-secret",
   "metadata": {},
   "outputs": [],
   "source": [
    "document_name = \"AWS-RunShellScript\"\n",
    "response = ssm_client.send_command(\n",
    "    InstanceIds=[instance_id],\n",
    "    DocumentName=document_name,\n",
    "    OutputS3BucketName=bucket,\n",
    "    OutputS3KeyPrefix=folder,\n",
    "    Parameters={\n",
    "        'commands': command_list\n",
    "    }\n",
    ")\n",
    "command_id=response['Command']['CommandId']\n",
    "print(response)\n",
    "retry_cnt = 0\n",
    "while retry_cnt < 20:\n",
    "    try:\n",
    "        response = ssm_client.get_command_invocation(\n",
    "            CommandId=command_id,\n",
    "            InstanceId=instance_id,\n",
    "        )\n",
    "        print(response['Status'])\n",
    "        if response['Status'] in ['Success','Failed']:\n",
    "            print(response['StandardOutputContent'])\n",
    "            break\n",
    "        else:\n",
    "            retry_cnt += 1\n",
    "            sleep(10)\n",
    "    except:\n",
    "        print('invocation does not exist yet')\n",
    "        retry_cnt += 1\n",
    "        sleep(10)"
   ]
  },
  {
   "cell_type": "code",
   "execution_count": null,
   "id": "invisible-circumstances",
   "metadata": {},
   "outputs": [],
   "source": [
    "# 標準エラー出力を確認\n",
    "key=f'{folder}/{command_id}/{instance_id}/awsrunShellScript/0.awsrunShellScript/stderr'\n",
    "try:\n",
    "    txt = s3_client.get_object(Bucket=bucket,Key=key)['Body'].read().decode('utf-8')\n",
    "    print(txt)\n",
    "except:\n",
    "    print('No Error')"
   ]
  },
  {
   "cell_type": "code",
   "execution_count": null,
   "id": "demographic-territory",
   "metadata": {},
   "outputs": [],
   "source": [
    "# 標準出力を確認\n",
    "key=f'{folder}/{command_id}/{instance_id}/awsrunShellScript/0.awsrunShellScript/stdout'\n",
    "txt = s3_client.get_object(Bucket=bucket,Key=key)['Body'].read().decode('utf-8')\n",
    "print(txt)"
   ]
  },
  {
   "cell_type": "markdown",
   "id": "flush-aluminum",
   "metadata": {},
   "source": [
    "## おかたづけ\n",
    "* デバイス削除解除\n",
    "* デバイスフリート削除\n",
    "* ロールエイリアス削除＆デタッチ\n",
    "* 証明書削除\n",
    "* IoT モノとタイプを削除\n",
    "* EC2削除\n",
    "を行う"
   ]
  },
  {
   "cell_type": "code",
   "execution_count": null,
   "id": "australian-annual",
   "metadata": {},
   "outputs": [],
   "source": [
    "# デバイス登録解除\n",
    "try:\n",
    "    sagemaker_client.deregister_devices(\n",
    "        DeviceFleetName=device_fleet_name,\n",
    "        DeviceNames=[device_name],\n",
    "    )\n",
    "    print('deregistered device')\n",
    "except:\n",
    "    print('nothing to deregister devices')"
   ]
  },
  {
   "cell_type": "code",
   "execution_count": null,
   "id": "excited-makeup",
   "metadata": {},
   "outputs": [],
   "source": [
    "# デバイスフリート削除\n",
    "try:\n",
    "    sagemaker_client.delete_device_fleet(\n",
    "        DeviceFleetName=device_fleet_name\n",
    "    )\n",
    "    print('deleted device freet')\n",
    "except:\n",
    "    print('nothing to delete device freet')\n",
    "# ロールエイリアスの削除\n",
    "try:\n",
    "    iot_client.delete_role_alias(\n",
    "        roleAlias=role_alias_name\n",
    "    )\n",
    "    print('delete role alias')\n",
    "except:\n",
    "    print('nothing to delete role alias')"
   ]
  },
  {
   "cell_type": "code",
   "execution_count": null,
   "id": "iraqi-compression",
   "metadata": {
    "scrolled": true
   },
   "outputs": [],
   "source": [
    "# ロールの削除（存在する場合のみ）\n",
    "sagemaker_edgemaneger_thing_role_name = 'sagemaker-edgemanager-thing-role'\n",
    "policy_arn_list = [\n",
    "    'arn:aws:iam::aws:policy/service-role/AmazonSageMakerEdgeDeviceFleetPolicy',\n",
    "    'arn:aws:iam::aws:policy/service-role/AWSIoTRuleActions',\n",
    "    'arn:aws:iam::aws:policy/service-role/AWSIoTLogging',\n",
    "    'arn:aws:iam::aws:policy/service-role/AWSIoTThingsRegistration'\n",
    "]\n",
    "\n",
    "for policy_arn in policy_arn_list:    \n",
    "    try:\n",
    "        response = iam_client.detach_role_policy(RoleName=sagemaker_edgemaneger_thing_role_name,PolicyArn=policy_arn)\n",
    "        print(f'detached {policy_arn}')\n",
    "        print(json.dumps(response, indent=2))\n",
    "    except:\n",
    "        print(f'not attach {policy_arn}')\n",
    "\n",
    "\n",
    "try:\n",
    "    response = iam_client.delete_role(RoleName = sagemaker_edgemaneger_thing_role_name)\n",
    "    print('delete sagemaker edgemanager thing role')\n",
    "    print(json.dumps(response, indent=2))\n",
    "except:\n",
    "    print('nothing to delete role')\n"
   ]
  },
  {
   "cell_type": "code",
   "execution_count": null,
   "id": "informed-bradford",
   "metadata": {
    "scrolled": true
   },
   "outputs": [],
   "source": [
    "# X.509 証明書を削除\n",
    "response = iot_client.update_certificate(\n",
    "    certificateId=iot_cert['certificateId'],\n",
    "    newStatus='INACTIVE'\n",
    ")\n",
    "print(response)\n",
    "response = iot_client.detach_policy(\n",
    "    policyName=certificate_policy_name,\n",
    "    target=iot_cert['certificateArn']\n",
    ")\n",
    "print(response)\n",
    "response = iot_client.delete_policy(\n",
    "    policyName=certificate_policy_name\n",
    ")\n",
    "print(response)\n",
    "response = iot_client.delete_certificate(\n",
    "    certificateId=iot_cert['certificateId']\n",
    ")\n",
    "print(response)"
   ]
  },
  {
   "cell_type": "code",
   "execution_count": null,
   "id": "outstanding-evidence",
   "metadata": {},
   "outputs": [],
   "source": [
    "try:\n",
    "    iot_client.delete_thing(thingName=iot_thing_name)\n",
    "    print('deleted thing')\n",
    "except:\n",
    "    print('nothing to delete thing')\n",
    "try:\n",
    "    iot_client.deprecate_thing_type(thingTypeName=iot_thing_type)\n",
    "    print('deprecated thing type')\n",
    "    sleep(60*5 + 10) # deprecate から5分立たないと delete できない。10 は buffer\n",
    "except:\n",
    "    print('nothing to deprecate thing type')\n",
    "try:\n",
    "    iot_client.delete_thing_type(thingTypeName=iot_thing_type)\n",
    "    print('deleted thing type')\n",
    "except:\n",
    "    print('nothing to delete thing type')"
   ]
  },
  {
   "cell_type": "code",
   "execution_count": null,
   "id": "royal-religious",
   "metadata": {},
   "outputs": [],
   "source": [
    "# EC2 の終了\n",
    "response = ec2_client.terminate_instances(\n",
    "    InstanceIds=[\n",
    "        instance_id,\n",
    "    ]\n",
    ")\n",
    "print(response)"
   ]
  },
  {
   "cell_type": "code",
   "execution_count": null,
   "id": "normal-source",
   "metadata": {},
   "outputs": [],
   "source": [
    "# EC2のロールを削除\n",
    "# ssm ポリシー\n",
    "for policy_arn in ec2_role_attach_policy_arn_list:                      \n",
    "    try:\n",
    "        response = iam_client.detach_role_policy(RoleName=ec2_role_name,PolicyArn=policy_arn)\n",
    "        print(f'detach ec2 role {policy_arn}')\n",
    "        print(json.dumps(response, indent=2))\n",
    "    except:\n",
    "        print(f'could not detach {policy_arn}')\n",
    "\n",
    "policies = iam_client.list_policies()\n",
    "for policy in policies['Policies']:\n",
    "    policy_arn = policy['Arn'] if policy['PolicyName'] in ec2_inline_policy_name else None\n",
    "    if policy_arn:\n",
    "        # Policy をデタッチ\n",
    "        try:\n",
    "            response = iam_client.detach_role_policy(\n",
    "                RoleName=ec2_role_name,\n",
    "                PolicyArn=policy_arn\n",
    "            )\n",
    "            print(f'detach {ec2_role_name} {policy_arn}')\n",
    "            print(respoonse)\n",
    "        except:\n",
    "            print('did not detach role policy')\n",
    "        # Policy バージョンの削除\n",
    "        try:\n",
    "            for policy_version in iam_client.list_policy_versions(PolicyArn=policy_arn)['Versions']:\n",
    "                response = iam.delete_policy_version(PolicyArn=policy_arn,VersionId=policy_version['VersionId'])\n",
    "                print(f'delete policy version {policy_arn} {policy_version[\"VersionId\"]}')\n",
    "                print(response)\n",
    "        except:\n",
    "            print('did not delete policy version')\n",
    "        # Policy を削除\n",
    "        try:\n",
    "            response = iam_client.delete_policy(PolicyArn=policy_arn)\n",
    "            print(f'delete policy {policy_arn}')\n",
    "            print(response)\n",
    "        except:\n",
    "            print('did not delete policy')\n",
    "\n",
    "try:\n",
    "    response = iam_client.detach_role_policy(RoleName=ec2_role_name,PolicyArn=ssm_policy_arn)\n",
    "    print('detach administrator access')\n",
    "    print(json.dumps(response, indent=2))\n",
    "except:\n",
    "    print('nothing to detach ssm policy')\n",
    "\n",
    "try:\n",
    "    response = iam_client.remove_role_from_instance_profile(\n",
    "        InstanceProfileName=ec2_role_name,\n",
    "        RoleName=ec2_role_name\n",
    "    )\n",
    "    print('delete ec2 role')\n",
    "    print(json.dumps(response, indent=2))\n",
    "except:\n",
    "    print('nothing to remove role from instance profile')\n",
    "\n",
    "try:\n",
    "    response = iam_client.delete_role(RoleName = ec2_role_name)\n",
    "    print('delete ec2 role')\n",
    "    print(json.dumps(response, indent=2))\n",
    "except:\n",
    "    print('nothing to delete role')\n",
    "try:\n",
    "    response = iam_client.delete_instance_profile(InstanceProfileName=ec2_role_name)\n",
    "    print('delete instance profile')\n",
    "    print(json.dumps(response, indent=2))\n",
    "except:\n",
    "    print('nothing to delete instance profile')"
   ]
  },
  {
   "cell_type": "code",
   "execution_count": null,
   "id": "shared-virginia",
   "metadata": {},
   "outputs": [],
   "source": []
  }
 ],
 "metadata": {
  "kernelspec": {
   "display_name": "conda_amazonei_tensorflow2_p36",
   "language": "python",
   "name": "conda_amazonei_tensorflow2_p36"
  },
  "language_info": {
   "codemirror_mode": {
    "name": "ipython",
    "version": 3
   },
   "file_extension": ".py",
   "mimetype": "text/x-python",
   "name": "python",
   "nbconvert_exporter": "python",
   "pygments_lexer": "ipython3",
   "version": "3.6.13"
  }
 },
 "nbformat": 4,
 "nbformat_minor": 5
}
